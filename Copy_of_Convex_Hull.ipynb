{
  "nbformat": 4,
  "nbformat_minor": 0,
  "metadata": {
    "colab": {
      "name": "Copy of Convex Hull.ipynb",
      "provenance": [],
      "authorship_tag": "ABX9TyOJgRA7CQldhPjNoxrVoh0D",
      "include_colab_link": true
    },
    "kernelspec": {
      "name": "python3",
      "display_name": "Python 3"
    }
  },
  "cells": [
    {
      "cell_type": "markdown",
      "metadata": {
        "id": "view-in-github",
        "colab_type": "text"
      },
      "source": [
        "<a href=\"https://colab.research.google.com/github/yxuieang/BaseProject-Cpp/blob/master/Copy_of_Convex_Hull.ipynb\" target=\"_parent\"><img src=\"https://colab.research.google.com/assets/colab-badge.svg\" alt=\"Open In Colab\"/></a>"
      ]
    },
    {
      "cell_type": "code",
      "metadata": {
        "id": "UhZorvlhTEcU",
        "colab_type": "code",
        "colab": {}
      },
      "source": [
        "#import\n",
        "import random\n",
        "import matplotlib\n",
        "import matplotlib.pyplot as plt"
      ],
      "execution_count": 0,
      "outputs": []
    },
    {
      "cell_type": "code",
      "metadata": {
        "id": "tuGmuwj8T1Gf",
        "colab_type": "code",
        "outputId": "9a78912a-63e3-4b0a-98db-b6703a471649",
        "colab": {
          "base_uri": "https://localhost:8080/",
          "height": 50
        }
      },
      "source": [
        "#決定隨機點的數量\n",
        "#n = random.randint(20,40)\n",
        "str = input('Enter the number of points : ')\n",
        "n=int(str)\n",
        "print(n)"
      ],
      "execution_count": 19,
      "outputs": [
        {
          "output_type": "stream",
          "text": [
            "Enter the number of points : 20\n",
            "20\n"
          ],
          "name": "stdout"
        }
      ]
    },
    {
      "cell_type": "code",
      "metadata": {
        "id": "CWn7-SWgUTKt",
        "colab_type": "code",
        "outputId": "ad7e0c1d-210f-4326-eed8-1ecfe2752bd0",
        "colab": {
          "base_uri": "https://localhost:8080/",
          "height": 386
        }
      },
      "source": [
        "#給予座標隨機值\n",
        "str = input('Enter the minimum : ')\n",
        "Min=int(str)\n",
        "str = input('Enter the maximum : ')\n",
        "Max=int(str)\n",
        "X = [0]*n\n",
        "for i in range(n):\n",
        "  X[i] = random.randint(Min,Max)\n",
        "\n",
        "Y = [0]*n\n",
        "for i in range(n):\n",
        "  Y[i] = random.randint(Min,Max)\n",
        "\n",
        "for i in range(n):\n",
        "  print('(',X[i],',',Y[i],')')"
      ],
      "execution_count": 20,
      "outputs": [
        {
          "output_type": "stream",
          "text": [
            "Enter the minimum : 1\n",
            "Enter the maximum : 100\n",
            "( 15 , 72 )\n",
            "( 37 , 64 )\n",
            "( 86 , 9 )\n",
            "( 39 , 82 )\n",
            "( 56 , 55 )\n",
            "( 64 , 35 )\n",
            "( 75 , 83 )\n",
            "( 65 , 56 )\n",
            "( 37 , 46 )\n",
            "( 25 , 69 )\n",
            "( 36 , 7 )\n",
            "( 93 , 27 )\n",
            "( 66 , 8 )\n",
            "( 35 , 10 )\n",
            "( 38 , 81 )\n",
            "( 5 , 12 )\n",
            "( 34 , 6 )\n",
            "( 90 , 27 )\n",
            "( 23 , 54 )\n",
            "( 45 , 24 )\n"
          ],
          "name": "stdout"
        }
      ]
    },
    {
      "cell_type": "code",
      "metadata": {
        "id": "9RLIRM_gYeZZ",
        "colab_type": "code",
        "outputId": "ea5eddb3-7e08-4b8b-dbfe-7319247eac50",
        "colab": {
          "base_uri": "https://localhost:8080/",
          "height": 295
        }
      },
      "source": [
        "#畫圖\n",
        "plt.scatter(X,Y)\n",
        "\n",
        "plt.xlim(-10,110)\n",
        "plt.ylim(-10,110)\n",
        "\n",
        "plt.xlabel(\"X-axis\")\n",
        "plt.ylabel(\"Y-axis\")\n",
        "plt.title(\"Convex Hull\")\n",
        "\n",
        "plt.show()"
      ],
      "execution_count": 21,
      "outputs": [
        {
          "output_type": "display_data",
          "data": {
            "image/png": "[encoded data removed]",
            "text/plain": [
              "<Figure size 432x288 with 1 Axes>"
            ]
          },
          "metadata": {
            "tags": [],
            "needs_background": "light"
          }
        }
      ]
    },
    {
      "cell_type": "code",
      "metadata": {
        "id": "ysEn2GgqxBFX",
        "colab_type": "code",
        "colab": {}
      },
      "source": [
        "#計算\n",
        "def comp(a,b):\n",
        "  return Y[a]<Y[b]or(Y[a] == Y[b] and X[a] < X[b])\n",
        "def cal(a,b,c):\n",
        "  return (X[b]-Xs[a])*(Y[c]-Ys[a])-(Y[b]-Ys[a])*(X[c]-Xs[a])\n",
        "def len(a,b):\n",
        "  return (Xs[a]-X[b])*(Xs[a]-X[b])+(Ys[a]-Y[b])*(Ys[a]-Y[b])\n",
        "def far(a,b,c):\n",
        "  return len(a,b)>len(a,c)"
      ],
      "execution_count": 0,
      "outputs": []
    },
    {
      "cell_type": "code",
      "metadata": {
        "id": "gdwg3p8L4Sny",
        "colab_type": "code",
        "outputId": "f158ba67-239a-4a71-d680-760c33e3ba86",
        "colab": {
          "base_uri": "https://localhost:8080/",
          "height": 386
        }
      },
      "source": [
        "#找包圍的點\n",
        "start=0\n",
        "for i in range(n):\n",
        "  if (comp(i, start)):\n",
        "    start = i\n",
        "m = 0\n",
        "Xs = [0]*n\n",
        "Ys = [0]*n\n",
        "Xs[m] = X[start]\n",
        "Ys[m] = Y[start]\n",
        "print(m)\n",
        "print(Xs[m],Ys[m])\n",
        "print('------------')\n",
        "cur = start\n",
        "for m in range(1,n+1):\n",
        "  print(m)\n",
        "  nex = cur\n",
        "  #print(X[start],Y[start])\n",
        "  #print('------------')\n",
        "  #print(X[nex],Y[nex])\n",
        "  for i in range(n):\n",
        "    #print(X[start],Y[start])\n",
        "    #print('------------')\n",
        "    #print(X[nex],Y[nex])\n",
        "    #print('------------')\n",
        "    #print(Xs[result[m]],Ys[result[m]])\n",
        "    #print('*************')\n",
        "    if cal(m-1,i,nex)>0 or (cal(m-1,i,nex)==0 and far(m-1,i,nex)):\n",
        "      nex = i\n",
        "      #print(nex)\n",
        "  if nex == start:\n",
        "    break\n",
        "  Xs[m] = X[nex]\n",
        "  Ys[m] = Y[nex]\n",
        "  print(Xs[m],Ys[m])\n",
        "  print('------------')\n",
        "  #print(Xs[result[m]],Ys[result[m]])\n",
        "  cur = nex"
      ],
      "execution_count": 23,
      "outputs": [
        {
          "output_type": "stream",
          "text": [
            "0\n",
            "34 6\n",
            "------------\n",
            "1\n",
            "86 9\n",
            "------------\n",
            "2\n",
            "93 27\n",
            "------------\n",
            "3\n",
            "75 83\n",
            "------------\n",
            "4\n",
            "39 82\n",
            "------------\n",
            "5\n",
            "15 72\n",
            "------------\n",
            "6\n",
            "5 12\n",
            "------------\n",
            "7\n"
          ],
          "name": "stdout"
        }
      ]
    },
    {
      "cell_type": "code",
      "metadata": {
        "id": "RtET9RIW6iz8",
        "colab_type": "code",
        "outputId": "7ff9aba1-7fe7-4a51-828e-3d92df9a9d46",
        "colab": {
          "base_uri": "https://localhost:8080/",
          "height": 749
        }
      },
      "source": [
        "#畫圖\n",
        "plt.scatter(X,Y)\n",
        "\n",
        "plt.xlim(-10,110)\n",
        "plt.ylim(-10,110)\n",
        "\n",
        "plt.xlabel(\"X-axis\")\n",
        "plt.ylabel(\"Y-axis\")\n",
        "plt.title(\"Convex Hull\")\n",
        "\n",
        "for i in range(m):\n",
        "  print(i)\n",
        "  if i==m-1:\n",
        "    print(Xs[i],Ys[i])\n",
        "    print(Xs[0],Ys[0])\n",
        "    plt.plot([ Xs[i],Xs[0] ],[ Ys[i],Ys[0] ])\n",
        "  else:\n",
        "    print(Xs[i],Ys[i])\n",
        "    print(Xs[i+1],Ys[i+1])\n",
        "    print('-------------')\n",
        "    plt.plot([ Xs[i],Xs[i+1] ],[ Ys[i],Ys[i+1] ])\n",
        "  if i == m-1:\n",
        "    break\n",
        "  #print(Xs[result[i]],Ys[result[i]])\n",
        "  #plt.plot([ Xs[i],Xs[i+1] ],[ Y[i],Y[i+1] ])\n",
        "\n",
        "#plt.show()"
      ],
      "execution_count": 24,
      "outputs": [
        {
          "output_type": "stream",
          "text": [
            "0\n",
            "34 6\n",
            "86 9\n",
            "-------------\n",
            "1\n",
            "86 9\n",
            "93 27\n",
            "-------------\n",
            "2\n",
            "93 27\n",
            "75 83\n",
            "-------------\n",
            "3\n",
            "75 83\n",
            "39 82\n",
            "-------------\n",
            "4\n",
            "39 82\n",
            "15 72\n",
            "-------------\n",
            "5\n",
            "15 72\n",
            "5 12\n",
            "-------------\n",
            "6\n",
            "5 12\n",
            "34 6\n"
          ],
          "name": "stdout"
        },
        {
          "output_type": "display_data",
          "data": {
            "image/png": "[encoded data removed]",
            "text/plain": [
              "<Figure size 432x288 with 1 Axes>"
            ]
          },
          "metadata": {
            "tags": [],
            "needs_background": "light"
          }
        }
      ]
    },
    {
      "cell_type": "code",
      "metadata": {
        "id": "Ck4S3bY-GTK9",
        "colab_type": "code",
        "colab": {}
      },
      "source": [
        ""
      ],
      "execution_count": 0,
      "outputs": []
    }
  ]
}