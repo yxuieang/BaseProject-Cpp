{
  "nbformat": 4,
  "nbformat_minor": 0,
  "metadata": {
    "colab": {
      "name": "Convex Hull.ipynb",
      "provenance": [],
      "authorship_tag": "ABX9TyNC/Y7mmihFtNbYLorOE6I8",
      "include_colab_link": true
    },
    "kernelspec": {
      "name": "python3",
      "display_name": "Python 3"
    }
  },
  "cells": [
    {
      "cell_type": "markdown",
      "metadata": {
        "id": "view-in-github",
        "colab_type": "text"
      },
      "source": [
        "<a href=\"https://colab.research.google.com/github/yxuieang/BaseProject-Cpp/blob/master/Convex_Hull.ipynb\" target=\"_parent\"><img src=\"https://colab.research.google.com/assets/colab-badge.svg\" alt=\"Open In Colab\"/></a>"
      ]
    },
    {
      "cell_type": "code",
      "metadata": {
        "id": "UhZorvlhTEcU",
        "colab_type": "code",
        "colab": {}
      },
      "source": [
        "#import\n",
        "import random\n",
        "import matplotlib\n",
        "import matplotlib.pyplot as plt"
      ],
      "execution_count": 0,
      "outputs": []
    },
    {
      "cell_type": "code",
      "metadata": {
        "id": "tuGmuwj8T1Gf",
        "colab_type": "code",
        "colab": {
          "base_uri": "https://localhost:8080/",
          "height": 50
        },
        "outputId": "e7482702-d6c4-451f-b644-ca1acf940355"
      },
      "source": [
        "#決定隨機點的數量\n",
        "#n = random.randint(20,40)\n",
        "str = input('Enter the number of points : ')\n",
        "n=int(str)\n",
        "print(n)"
      ],
      "execution_count": 471,
      "outputs": [
        {
          "output_type": "stream",
          "text": [
            "Enter the number of points : 20\n",
            "20\n"
          ],
          "name": "stdout"
        }
      ]
    },
    {
      "cell_type": "code",
      "metadata": {
        "id": "CWn7-SWgUTKt",
        "colab_type": "code",
        "colab": {
          "base_uri": "https://localhost:8080/",
          "height": 386
        },
        "outputId": "5d34e15c-5c41-4f45-8b72-8ed854bcdb4c"
      },
      "source": [
        "#給予座標隨機值\n",
        "str = input('Enter the minimum : ')\n",
        "Min=int(str)\n",
        "str = input('Enter the maximum : ')\n",
        "Max=int(str)\n",
        "X = [0]*n\n",
        "for i in range(n):\n",
        "  X[i] = random.randint(Min,Max)\n",
        "\n",
        "Y = [0]*n\n",
        "for i in range(n):\n",
        "  Y[i] = random.randint(Min,Max)\n",
        "\n",
        "for i in range(n):\n",
        "  print('(',X[i],',',Y[i],')')"
      ],
      "execution_count": 472,
      "outputs": [
        {
          "output_type": "stream",
          "text": [
            "Enter the minimum : 1\n",
            "Enter the maximum : 100\n",
            "( 91 , 28 )\n",
            "( 19 , 43 )\n",
            "( 74 , 21 )\n",
            "( 83 , 22 )\n",
            "( 31 , 68 )\n",
            "( 55 , 70 )\n",
            "( 48 , 87 )\n",
            "( 52 , 5 )\n",
            "( 14 , 42 )\n",
            "( 73 , 39 )\n",
            "( 71 , 50 )\n",
            "( 83 , 67 )\n",
            "( 74 , 85 )\n",
            "( 68 , 63 )\n",
            "( 52 , 89 )\n",
            "( 83 , 36 )\n",
            "( 70 , 25 )\n",
            "( 75 , 99 )\n",
            "( 66 , 81 )\n",
            "( 39 , 3 )\n"
          ],
          "name": "stdout"
        }
      ]
    },
    {
      "cell_type": "code",
      "metadata": {
        "id": "9RLIRM_gYeZZ",
        "colab_type": "code",
        "colab": {
          "base_uri": "https://localhost:8080/",
          "height": 295
        },
        "outputId": "298de0ac-0f35-45c7-aa8f-7662f57b3cf1"
      },
      "source": [
        "#畫圖\n",
        "plt.scatter(X,Y)\n",
        "\n",
        "plt.xlim(-10,110)\n",
        "plt.ylim(-10,110)\n",
        "\n",
        "plt.xlabel(\"X-axis\")\n",
        "plt.ylabel(\"Y-axis\")\n",
        "plt.title(\"Convex Hull\")\n",
        "\n",
        "plt.show()"
      ],
      "execution_count": 473,
      "outputs": [
        {
          "output_type": "display_data",
          "data": {
            "image/png": "[encoded data removed]",
            "text/plain": [
              "<Figure size 432x288 with 1 Axes>"
            ]
          },
          "metadata": {
            "tags": [],
            "needs_background": "light"
          }
        }
      ]
    },
    {
      "cell_type": "code",
      "metadata": {
        "id": "ysEn2GgqxBFX",
        "colab_type": "code",
        "colab": {}
      },
      "source": [
        "#計算\n",
        "def comp(a,b):\n",
        "  return Y[a]<Y[b]or(Y[a] == Y[b] and X[a] < X[b])\n",
        "def cal(a,b,c):\n",
        "  return (X[b]-Xs[a])*(Y[c]-Ys[a])-(Y[b]-Ys[a])*(X[c]-Xs[a])\n",
        "def len(a,b):\n",
        "  return (Xs[a]-X[b])*(Xs[a]-X[b])+(Ys[a]-Y[b])*(Ys[a]-Y[b])\n",
        "def far(a,b,c):\n",
        "  return len(a,b)>len(a,c)"
      ],
      "execution_count": 0,
      "outputs": []
    },
    {
      "cell_type": "code",
      "metadata": {
        "id": "gdwg3p8L4Sny",
        "colab_type": "code",
        "colab": {
          "base_uri": "https://localhost:8080/",
          "height": 538
        },
        "outputId": "2dd24c82-d418-4f14-8afa-52ff444b3827"
      },
      "source": [
        "#找包圍的點\n",
        "start=0\n",
        "for i in range(n):\n",
        "  if (comp(i, start)):\n",
        "    start = i\n",
        "m = 0\n",
        "Xs = [0]*n\n",
        "Ys = [0]*n\n",
        "Xs[m] = X[start]\n",
        "Ys[m] = Y[start]\n",
        "print(m)\n",
        "print(Xs[m],Ys[m])\n",
        "print('------------')\n",
        "cur = start\n",
        "for m in range(1,n):\n",
        "  print(m)\n",
        "  nex = cur\n",
        "  #print(X[start],Y[start])\n",
        "  #print('------------')\n",
        "  #print(X[nex],Y[nex])\n",
        "  for i in range(n):\n",
        "    #print(X[start],Y[start])\n",
        "    #print('------------')\n",
        "    #print(X[nex],Y[nex])\n",
        "    #print('------------')\n",
        "    #print(Xs[result[m]],Ys[result[m]])\n",
        "    #print('*************')\n",
        "    if cal(m-1,i,nex)>0 or (cal(m-1,i,nex)==0 and far(m-1,i,nex)):\n",
        "      nex = i\n",
        "      #print(nex)\n",
        "  if nex == start:\n",
        "    break\n",
        "  Xs[m] = X[nex]\n",
        "  Ys[m] = Y[nex]\n",
        "  print(Xs[m],Ys[m])\n",
        "  print('------------')\n",
        "  #print(Xs[result[m]],Ys[result[m]])\n",
        "  cur = nex"
      ],
      "execution_count": 475,
      "outputs": [
        {
          "output_type": "stream",
          "text": [
            "0\n",
            "39 3\n",
            "------------\n",
            "1\n",
            "52 5\n",
            "------------\n",
            "2\n",
            "83 22\n",
            "------------\n",
            "3\n",
            "91 28\n",
            "------------\n",
            "4\n",
            "83 67\n",
            "------------\n",
            "5\n",
            "75 99\n",
            "------------\n",
            "6\n",
            "52 89\n",
            "------------\n",
            "7\n",
            "48 87\n",
            "------------\n",
            "8\n",
            "31 68\n",
            "------------\n",
            "9\n",
            "14 42\n",
            "------------\n",
            "10\n"
          ],
          "name": "stdout"
        }
      ]
    },
    {
      "cell_type": "code",
      "metadata": {
        "id": "RtET9RIW6iz8",
        "colab_type": "code",
        "colab": {
          "base_uri": "https://localhost:8080/",
          "height": 950
        },
        "outputId": "ebc791a5-7cb0-4656-d1f8-261ad2a90dcb"
      },
      "source": [
        "#畫圖\n",
        "plt.scatter(X,Y)\n",
        "\n",
        "plt.xlim(-10,110)\n",
        "plt.ylim(-10,110)\n",
        "\n",
        "plt.xlabel(\"X-axis\")\n",
        "plt.ylabel(\"Y-axis\")\n",
        "plt.title(\"Convex Hull\")\n",
        "\n",
        "for i in range(m):\n",
        "  print(i)\n",
        "  if i==m-1:\n",
        "    print(Xs[i],Ys[i])\n",
        "    print(Xs[0],Ys[0])\n",
        "    plt.plot([ Xs[i],Xs[0] ],[ Ys[i],Ys[0] ])\n",
        "  else:\n",
        "    print(Xs[i],Ys[i])\n",
        "    print(Xs[i+1],Ys[i+1])\n",
        "    print('-------------')\n",
        "    plt.plot([ Xs[i],Xs[i+1] ],[ Ys[i],Ys[i+1] ])\n",
        "  if i == m-1:\n",
        "    break\n",
        "  #print(Xs[result[i]],Ys[result[i]])\n",
        "  #plt.plot([ Xs[i],Xs[i+1] ],[ Y[i],Y[i+1] ])\n",
        "\n",
        "#plt.show()"
      ],
      "execution_count": 476,
      "outputs": [
        {
          "output_type": "stream",
          "text": [
            "0\n",
            "39 3\n",
            "52 5\n",
            "-------------\n",
            "1\n",
            "52 5\n",
            "83 22\n",
            "-------------\n",
            "2\n",
            "83 22\n",
            "91 28\n",
            "-------------\n",
            "3\n",
            "91 28\n",
            "83 67\n",
            "-------------\n",
            "4\n",
            "83 67\n",
            "75 99\n",
            "-------------\n",
            "5\n",
            "75 99\n",
            "52 89\n",
            "-------------\n",
            "6\n",
            "52 89\n",
            "48 87\n",
            "-------------\n",
            "7\n",
            "48 87\n",
            "31 68\n",
            "-------------\n",
            "8\n",
            "31 68\n",
            "14 42\n",
            "-------------\n",
            "9\n",
            "14 42\n",
            "39 3\n"
          ],
          "name": "stdout"
        },
        {
          "output_type": "display_data",
          "data": {
            "image/png": "[encoded data removed]",
            "text/plain": [
              "<Figure size 432x288 with 1 Axes>"
            ]
          },
          "metadata": {
            "tags": [],
            "needs_background": "light"
          }
        }
      ]
    },
    {
      "cell_type": "code",
      "metadata": {
        "id": "Ck4S3bY-GTK9",
        "colab_type": "code",
        "colab": {}
      },
      "source": [
        ""
      ],
      "execution_count": 0,
      "outputs": []
    }
  ]
}